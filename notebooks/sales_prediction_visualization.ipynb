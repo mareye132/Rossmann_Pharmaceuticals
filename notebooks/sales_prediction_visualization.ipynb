{
 "cells": [
  {
   "cell_type": "code",
   "execution_count": 1,
   "metadata": {},
   "outputs": [],
   "source": [
    "# Import necessary libraries and the SalesPrediction class from sales_prediction.py\n",
    "import sys\n",
    "import os\n",
    "sys.path.append(os.path.abspath(\"../scripts\"))\n",
    "from sales_prediction import SalesPrediction\n",
    "import matplotlib.pyplot as plt\n",
    "import pandas as pd\n",
    "\n",
    "\n",
    "# Step 2: Define file paths for your data\n",
    "store_data_path = 'C:/Users/user/Desktop/Github/Rossmann_Pharmaceuticals/Data/store.csv'\n",
    "train_data_path = 'C:/Users/user/Desktop/Github/Rossmann_Pharmaceuticals/Data/train.csv'\n",
    "\n",
    "# Step 3: Create an instance of the SalesPrediction class\n",
    "sales_predictor = SalesPrediction(store_data_path, train_data_path)\n",
    "\n",
    "# Step 4: Load and preprocess data\n",
    "df = sales_predictor.load_data()\n",
    "X, y = sales_predictor.preprocess_data(df)\n",
    "\n",
    "# Step 5: Check stationarity and visualize ACF/PACF plots\n",
    "sales_predictor.check_stationarity(df)\n",
    "sales_predictor.plot_acf_pacf(df)\n",
    "\n",
    "# Step 6: Split data and train the model\n",
    "X_train_scaled, X_test_scaled, y_train, y_test = sales_predictor.split_and_scale_data(X, y)\n",
    "sales_predictor.build_and_train_model(X_train_scaled, y_train)\n",
    "\n",
    "# Step 7: Evaluate the model\n",
    "mse, y_pred = sales_predictor.evaluate_model(X_test_scaled, y_test)\n",
    "print(f\"Mean Squared Error: {mse}\")\n",
    "\n",
    "# Step 8: Plot the predicted vs actual sales\n",
    "plt.figure(figsize=(10, 5))\n",
    "plt.plot(y_test.values[:100], label='Actual Sales')\n",
    "plt.plot(y_pred[:100], label='Predicted Sales')\n",
    "plt.title('Actual vs Predicted Sales')\n",
    "plt.legend()\n",
    "plt.show()\n",
    "\n",
    "# Step 9: Feature Importance Visualization\n",
    "feature_importance = sales_predictor.feature_importance(X)\n",
    "feature_importance.plot(kind='bar', title='Feature Importance')\n",
    "plt.show()\n"
   ]
  },
  {
   "cell_type": "code",
   "execution_count": null,
   "metadata": {},
   "outputs": [],
   "source": []
  }
 ],
 "metadata": {
  "kernelspec": {
   "display_name": "Python 3",
   "language": "python",
   "name": "python3"
  },
  "language_info": {
   "codemirror_mode": {
    "name": "ipython",
    "version": 3
   },
   "file_extension": ".py",
   "mimetype": "text/x-python",
   "name": "python",
   "nbconvert_exporter": "python",
   "pygments_lexer": "ipython3",
   "version": "3.12.5"
  }
 },
 "nbformat": 4,
 "nbformat_minor": 2
}
